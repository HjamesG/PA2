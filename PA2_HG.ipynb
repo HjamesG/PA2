{
 "cells": [
  {
   "cell_type": "markdown",
   "id": "da1b4b9f",
   "metadata": {},
   "source": [
    "# Programming Assignment 2 on Data Types\n",
    "## Harrison Gilbert\n",
    "### Version 1\n",
    "#### Fall 2023"
   ]
  },
  {
   "cell_type": "markdown",
   "id": "860b6e37",
   "metadata": {},
   "source": [
    "## Task 1: Personal Information\n",
    "#### A. Create variables to store the following information about yourself:\n",
    "#### • Your name\n",
    "#### • Your age\n",
    "#### • Your height in centimeters\n",
    "#### • Your favorite color\n",
    "#### B. Print a message that includes all of the above information, e.g., \"My name is [name], I am [age] years old, I am [height] cm tall, and my favorite color is [color].\""
   ]
  },
  {
   "cell_type": "code",
   "execution_count": 2,
   "id": "990e28cb",
   "metadata": {},
   "outputs": [
    {
     "name": "stdout",
     "output_type": "stream",
     "text": [
      "My name is Harrison, I am 17 years old, I am 183 cm tall, and my favorate color is Blue\n"
     ]
    }
   ],
   "source": [
    "name = \"Harrison\"\n",
    "age = 17\n",
    "height = 183\n",
    "favColor = \"Blue\"\n",
    "\n",
    "print(f\"My name is {name}, I am {age} years old, I am {height} cm tall, and my favorate color is {favColor}\")"
   ]
  },
  {
   "cell_type": "markdown",
   "id": "94fb0a31",
   "metadata": {},
   "source": [
    "## Task 2: Temperature Conversion\n",
    "#### A. Create a variable celsius_temp and assign a temperature in Celsius to it.\n",
    "#### B. Convert the Celsius temperature to Fahrenheit\n",
    "#### C. Print a message that includes both the Celsius and Fahrenheit temperatures, e.g., \"The temperature is [Celsius]°C, which is [Fahrenheit]°F.\""
   ]
  },
  {
   "cell_type": "code",
   "execution_count": 3,
   "id": "55ec4beb",
   "metadata": {},
   "outputs": [
    {
     "name": "stdout",
     "output_type": "stream",
     "text": [
      "The temperature is 123°C, which is 253.4°F\n"
     ]
    }
   ],
   "source": [
    "celsius_temp = 123\n",
    "farenheight_temp = (celsius_temp*(9/5))+32\n",
    "print(f\"The temperature is {celsius_temp}°C, which is {farenheight_temp}°F\")"
   ]
  },
  {
   "cell_type": "markdown",
   "id": "82b206a1",
   "metadata": {},
   "source": [
    "## Task 3: Simple Calculator\n",
    "#### A. Create variables num1 and num2 and assign them numeric values.\n",
    "#### B. Perform the following operations and print the results:\n",
    "     a. Addition of num1 and num2\n",
    "     b. Subtraction of num1 from num2\n",
    "     c. Multiplication of num1 and num2\n",
    "     d. Division of num1 by num2"
   ]
  },
  {
   "cell_type": "code",
   "execution_count": 7,
   "id": "9f4224e8",
   "metadata": {},
   "outputs": [
    {
     "name": "stdout",
     "output_type": "stream",
     "text": [
      "Addition of number 1 and number 2: 3\n",
      "Subtration of number 1 and number 2: -1\n",
      "Multiplication of number 1 and number 2: 2\n",
      "Division of number 1 and number 2: 0.5\n"
     ]
    }
   ],
   "source": [
    "num1 = 1\n",
    "num2 = 2\n",
    "print(f\"Addition of number 1 and number 2: {num1+num2}\")\n",
    "print(f\"Subtration of number 1 and number 2: {num1-num2}\")\n",
    "print(f\"Multiplication of number 1 and number 2: {num1*num2}\")\n",
    "print(f\"Division of number 1 and number 2: {num1/num2}\")"
   ]
  },
  {
   "cell_type": "markdown",
   "id": "d302e879",
   "metadata": {},
   "source": [
    "## Task 4: String Manipulation\n",
    "#### A. Create a variable quote and assign a famous quote to it.\n",
    "#### B. Print the length of the quote.\n",
    "#### C. Print the quote in uppercase and lowercase.\n",
    "#### D. Print the quote with any leading/trailing whitespace removed.\n",
    "#### E. Print the quote split into a list of words."
   ]
  },
  {
   "cell_type": "code",
   "execution_count": 14,
   "id": "9e744047",
   "metadata": {},
   "outputs": [
    {
     "name": "stdout",
     "output_type": "stream",
     "text": [
      "The length of the quote is 46 characters\n",
      "THE ONLY THING WE HAVE TO FEAR IS FEAR ITSELF.\n",
      "the only thing we have to fear is fear itself.\n",
      "The only thing we have to fear is fear itself.\n",
      "['The', 'only', 'thing', 'we', 'have', 'to', 'fear', 'is', 'fear', 'itself.']\n"
     ]
    }
   ],
   "source": [
    "quote = \"The only thing we have to fear is fear itself.\"\n",
    "print(f\"The length of the quote is {len(quote)} characters\")\n",
    "print(quote.upper())\n",
    "print(quote.lower())\n",
    "print(quote.strip())\n",
    "print(quote.split())"
   ]
  },
  {
   "cell_type": "markdown",
   "id": "d1092720",
   "metadata": {},
   "source": [
    "## Task 5: User Input and Integer Operations\n",
    "#### 1. Prompt the user to enter two integer numbers.\n",
    "#### 2. Calculate and print the sum, difference, product, and quotient (integer division) of the two numbers."
   ]
  },
  {
   "cell_type": "code",
   "execution_count": 19,
   "id": "cd047f81",
   "metadata": {},
   "outputs": [
    {
     "name": "stdout",
     "output_type": "stream",
     "text": [
      "please input an integer: 4\n",
      "please input another integer: 8\n",
      "The sum of the two numbers is: 12\n",
      "The difference of the two numbers is: -4\n",
      "The product of the two numbers is: 32\n",
      "The quotient of the two numbers is: 0.5\n"
     ]
    }
   ],
   "source": [
    "number1 = int(input(\"please input an integer: \"))\n",
    "number2 = int(input(\"please input another integer: \"))\n",
    "print(f\"The sum of the two numbers is: {number1+number2}\")\n",
    "print(f\"The difference of the two numbers is: {number1-number2}\")\n",
    "print(f\"The product of the two numbers is: {number1*number2}\")\n",
    "print(f\"The quotient of the two numbers is: {number1/number2}\")"
   ]
  }
 ],
 "metadata": {
  "kernelspec": {
   "display_name": "Python 3 (ipykernel)",
   "language": "python",
   "name": "python3"
  },
  "language_info": {
   "codemirror_mode": {
    "name": "ipython",
    "version": 3
   },
   "file_extension": ".py",
   "mimetype": "text/x-python",
   "name": "python",
   "nbconvert_exporter": "python",
   "pygments_lexer": "ipython3",
   "version": "3.11.4"
  }
 },
 "nbformat": 4,
 "nbformat_minor": 5
}
